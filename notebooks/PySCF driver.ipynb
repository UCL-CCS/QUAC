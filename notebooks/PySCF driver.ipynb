{
 "cells": [
  {
   "cell_type": "code",
   "execution_count": 1,
   "id": "f7b34ebe",
   "metadata": {},
   "outputs": [],
   "source": [
    "from quac.chem_drivers.PySCF_driver import PySCFDriver\n",
    "from quac.utils import list_to_xyz\n",
    "import numpy as np"
   ]
  },
  {
   "cell_type": "code",
   "execution_count": null,
   "id": "3990c116",
   "metadata": {},
   "outputs": [],
   "source": []
  },
  {
   "cell_type": "code",
   "execution_count": null,
   "id": "f0d92847",
   "metadata": {},
   "outputs": [],
   "source": []
  },
  {
   "cell_type": "code",
   "execution_count": 2,
   "id": "1cb27a4b",
   "metadata": {},
   "outputs": [
    {
     "data": {
      "text/plain": [
       "['RHF',\n",
       " 'ROHF',\n",
       " 'UHF',\n",
       " 'GHF',\n",
       " 'RKS',\n",
       " 'ROKS',\n",
       " 'UKS',\n",
       " 'GKS',\n",
       " 'lowdin',\n",
       " 'schmidt',\n",
       " 'edmiston_ruedenberg_RHF',\n",
       " 'boys_RHF',\n",
       " 'pipek_mezey_RHF',\n",
       " 'edmiston_ruedenberg_ROHF',\n",
       " 'boys_ROHF',\n",
       " 'pipek_mezey_ROHF',\n",
       " 'edmiston_ruedenberg_UHF',\n",
       " 'boys_UHF',\n",
       " 'pipek_mezey_UHF',\n",
       " 'edmiston_ruedenberg_GHF',\n",
       " 'boys_GHF',\n",
       " 'pipek_mezey_GHF',\n",
       " 'edmiston_ruedenberg_RKS',\n",
       " 'boys_RKS',\n",
       " 'pipek_mezey_RKS',\n",
       " 'edmiston_ruedenberg_ROKS',\n",
       " 'boys_ROKS',\n",
       " 'pipek_mezey_ROKS',\n",
       " 'edmiston_ruedenberg_UKS',\n",
       " 'boys_UKS',\n",
       " 'pipek_mezey_UKS',\n",
       " 'edmiston_ruedenberg_GKS',\n",
       " 'boys_GKS',\n",
       " 'pipek_mezey_GKS']"
      ]
     },
     "execution_count": 2,
     "metadata": {},
     "output_type": "execute_result"
    }
   ],
   "source": [
    "mo_basis_OPTIONS = []\n",
    "\n",
    "scf_types = ['RHF', 'ROHF', 'UHF', 'GHF', # HFock\n",
    "        'RKS', 'ROKS', 'UKS', 'GKS', # DFT\n",
    "        \n",
    "       ]\n",
    "\n",
    "scf_loc_types = [\n",
    "             # 'iao',\n",
    "             # 'ibo',\n",
    "             # 'random_unitary',\n",
    "            'edmiston_ruedenberg',\n",
    "            'boys',\n",
    "             'pipek_mezey']\n",
    "\n",
    "fixed_types = [ 'lowdin',\n",
    "             'schmidt']\n",
    "\n",
    "\n",
    "for scf in scf_types:\n",
    "    for loc in scf_loc_types:\n",
    "        mo_basis_OPTIONS.append(loc+'_'+scf)\n",
    "\n",
    "mo_basis_OPTIONS = [*scf_types,*fixed_types, *mo_basis_OPTIONS ]\n",
    "mo_basis_OPTIONS"
   ]
  },
  {
   "cell_type": "code",
   "execution_count": 15,
   "id": "f5148513",
   "metadata": {},
   "outputs": [
    {
     "data": {
      "text/plain": [
       "'UHF'"
      ]
     },
     "execution_count": 15,
     "metadata": {},
     "output_type": "execute_result"
    }
   ],
   "source": [
    "# i = 0#2\n",
    "i = 2\n",
    "# i = 10\n",
    "\n",
    "mo_basis = mo_basis_OPTIONS[i]\n",
    "mo_basis"
   ]
  },
  {
   "cell_type": "code",
   "execution_count": null,
   "id": "887cf2b4",
   "metadata": {},
   "outputs": [],
   "source": []
  },
  {
   "cell_type": "code",
   "execution_count": 16,
   "id": "6ac07867",
   "metadata": {},
   "outputs": [],
   "source": [
    "geometry = list_to_xyz([('Li', (0,0,0)), ('H', (0,0,1.5))])\n",
    "basis = 'STO-3G'\n",
    "convergence = 1e-6\n",
    "\n",
    "# charge= -1\n",
    "# spin= 1\n",
    "\n",
    "charge= 0\n",
    "spin= 0\n",
    "\n",
    "max_ram_memory = 8000\n",
    "pyscf_print_level = 1\n",
    "unit = \"angstrom\"\n",
    "max_hf_cycles= 50\n",
    "xc_functional = 'LDA'\n",
    "symmetry = True\n",
    "run_mp2  = True\n",
    "run_cisd = True\n",
    "run_ccsd = True\n",
    "run_fci  = True\n",
    "CASSCF_act_orbs_and_act_electrons = None#(8,4)"
   ]
  },
  {
   "cell_type": "code",
   "execution_count": 17,
   "id": "52e5607f",
   "metadata": {},
   "outputs": [],
   "source": [
    "# run_mp2  = False\n",
    "# run_cisd = False\n",
    "# run_ccsd = False\n",
    "# run_fci  = False"
   ]
  },
  {
   "cell_type": "code",
   "execution_count": 18,
   "id": "b83ae64e",
   "metadata": {},
   "outputs": [],
   "source": [
    "pyscf = PySCFDriver(geometry,\n",
    "            basis,\n",
    "            mo_basis,\n",
    "            convergence=convergence,\n",
    "            charge=charge,\n",
    "            max_ram_memory=max_ram_memory,\n",
    "            pyscf_print_level=pyscf_print_level,\n",
    "            unit=unit,\n",
    "            max_hf_cycles=max_hf_cycles,\n",
    "            spin=spin,\n",
    "            symmetry=symmetry,\n",
    "            xc_functional=xc_functional,\n",
    "            run_mp2=run_mp2,\n",
    "            run_cisd=run_cisd,\n",
    "            run_ccsd=run_ccsd,\n",
    "            run_fci=run_fci)\n"
   ]
  },
  {
   "cell_type": "code",
   "execution_count": 19,
   "id": "ad673922",
   "metadata": {},
   "outputs": [
    {
     "data": {
      "text/plain": [
       "'uhf'"
      ]
     },
     "execution_count": 19,
     "metadata": {},
     "output_type": "execute_result"
    }
   ],
   "source": [
    "pyscf.mo_basis"
   ]
  },
  {
   "cell_type": "code",
   "execution_count": 20,
   "id": "4762f6ac",
   "metadata": {},
   "outputs": [],
   "source": [
    "pyscf.run_driver()"
   ]
  },
  {
   "cell_type": "code",
   "execution_count": 21,
   "id": "f3fea50f",
   "metadata": {},
   "outputs": [
    {
     "data": {
      "text/plain": [
       "1"
      ]
     },
     "execution_count": 21,
     "metadata": {},
     "output_type": "execute_result"
    }
   ],
   "source": [
    "pyscf.multiplicity"
   ]
  },
  {
   "cell_type": "code",
   "execution_count": 22,
   "id": "763af064",
   "metadata": {},
   "outputs": [
    {
     "data": {
      "text/plain": [
       "True"
      ]
     },
     "execution_count": 22,
     "metadata": {},
     "output_type": "execute_result"
    }
   ],
   "source": [
    "pyscf.SCF_obj.mol.symmetry"
   ]
  },
  {
   "cell_type": "code",
   "execution_count": 23,
   "id": "70ad6d21",
   "metadata": {},
   "outputs": [
    {
     "data": {
      "text/plain": [
       "'open_shell'"
      ]
     },
     "execution_count": 23,
     "metadata": {},
     "output_type": "execute_result"
    }
   ],
   "source": [
    "pyscf.calculation_type"
   ]
  },
  {
   "cell_type": "code",
   "execution_count": 24,
   "id": "0da66141",
   "metadata": {},
   "outputs": [
    {
     "name": "stdout",
     "output_type": "stream",
     "text": [
      "(6, 6)\n",
      "(6, 6)\n",
      "(6, 6, 6, 6)\n",
      "(6, 6, 6, 6)\n",
      "(6, 6, 6, 6)\n"
     ]
    }
   ],
   "source": [
    "if pyscf.calculation_type == 'closed_shell':\n",
    "    print(pyscf.C_matrix.shape)\n",
    "    print(pyscf.eri_spatial_mo_chemist.shape)\n",
    "else:\n",
    "    print(pyscf.C_alpha.shape)\n",
    "    print(pyscf.C_beta.shape)\n",
    "    \n",
    "    print(pyscf.eri_mo_aaaa_chemist.shape)\n",
    "    print(pyscf.eri_mo_aabb_chemist.shape)\n",
    "    print(pyscf.eri_mo_bbbb_chemist.shape)"
   ]
  },
  {
   "cell_type": "code",
   "execution_count": 25,
   "id": "7485acab",
   "metadata": {},
   "outputs": [
    {
     "data": {
      "text/plain": [
       "-7.863357621532292"
      ]
     },
     "execution_count": 25,
     "metadata": {},
     "output_type": "execute_result"
    }
   ],
   "source": [
    "pyscf.SCF_energy"
   ]
  },
  {
   "cell_type": "markdown",
   "id": "690816bf",
   "metadata": {},
   "source": [
    "# Post HF"
   ]
  },
  {
   "cell_type": "code",
   "execution_count": 26,
   "id": "eaca6282",
   "metadata": {},
   "outputs": [],
   "source": [
    "pyscf.run_post_hf()"
   ]
  },
  {
   "cell_type": "code",
   "execution_count": null,
   "id": "0eb2c69a",
   "metadata": {},
   "outputs": [],
   "source": []
  },
  {
   "cell_type": "code",
   "execution_count": 27,
   "id": "733586f1",
   "metadata": {},
   "outputs": [
    {
     "data": {
      "text/plain": [
       "-7.875556474038481"
      ]
     },
     "execution_count": 27,
     "metadata": {},
     "output_type": "execute_result"
    }
   ],
   "source": [
    "pyscf.pyscf_mp2.e_tot"
   ]
  },
  {
   "cell_type": "code",
   "execution_count": 28,
   "id": "b5a92387",
   "metadata": {},
   "outputs": [
    {
     "data": {
      "text/plain": [
       "-7.882350299329983"
      ]
     },
     "execution_count": 28,
     "metadata": {},
     "output_type": "execute_result"
    }
   ],
   "source": [
    "pyscf.pyscf_cisd.e_tot"
   ]
  },
  {
   "cell_type": "code",
   "execution_count": 29,
   "id": "f9259f66",
   "metadata": {},
   "outputs": [
    {
     "data": {
      "text/plain": [
       "-7.882352910042181"
      ]
     },
     "execution_count": 29,
     "metadata": {},
     "output_type": "execute_result"
    }
   ],
   "source": [
    "pyscf.pyscf_ccsd.e_tot"
   ]
  },
  {
   "cell_type": "code",
   "execution_count": 30,
   "id": "a72ff1c4",
   "metadata": {},
   "outputs": [
    {
     "data": {
      "text/plain": [
       "-7.882362286798728"
      ]
     },
     "execution_count": 30,
     "metadata": {},
     "output_type": "execute_result"
    }
   ],
   "source": [
    "pyscf.pyscf_fci.e_tot"
   ]
  },
  {
   "cell_type": "code",
   "execution_count": 31,
   "id": "435780d3",
   "metadata": {},
   "outputs": [
    {
     "data": {
      "text/plain": [
       "(6, 6)"
      ]
     },
     "execution_count": 31,
     "metadata": {},
     "output_type": "execute_result"
    }
   ],
   "source": [
    "pyscf.hcore_ao.shape"
   ]
  },
  {
   "cell_type": "code",
   "execution_count": 32,
   "id": "64d0030f",
   "metadata": {},
   "outputs": [
    {
     "data": {
      "text/plain": [
       "{'groupname': 'Coov',\n",
       " 'topgroup': 'Coov',\n",
       " 'labels_alpha': array(['A1', 'A1'], dtype='<U3'),\n",
       " 'labels_beta': array(['A1', 'A1'], dtype='<U3'),\n",
       " 'labels_abab': array(['A1', 'A1', 'A1', 'A1'], dtype='<U3')}"
      ]
     },
     "execution_count": 32,
     "metadata": {},
     "output_type": "execute_result"
    }
   ],
   "source": [
    "pyscf.point_group"
   ]
  },
  {
   "cell_type": "code",
   "execution_count": null,
   "id": "c9fd72d6",
   "metadata": {},
   "outputs": [],
   "source": []
  },
  {
   "cell_type": "code",
   "execution_count": null,
   "id": "f340d9f1",
   "metadata": {},
   "outputs": [],
   "source": [
    "import sys\n",
    "\n",
    "print(sys.version_info)"
   ]
  },
  {
   "cell_type": "code",
   "execution_count": null,
   "id": "07a6d7fd",
   "metadata": {},
   "outputs": [],
   "source": [
    "import psi4"
   ]
  }
 ],
 "metadata": {
  "kernelspec": {
   "display_name": "Python 3 (ipykernel)",
   "language": "python",
   "name": "python3"
  },
  "language_info": {
   "codemirror_mode": {
    "name": "ipython",
    "version": 3
   },
   "file_extension": ".py",
   "mimetype": "text/x-python",
   "name": "python",
   "nbconvert_exporter": "python",
   "pygments_lexer": "ipython3",
   "version": "3.8.16"
  }
 },
 "nbformat": 4,
 "nbformat_minor": 5
}
