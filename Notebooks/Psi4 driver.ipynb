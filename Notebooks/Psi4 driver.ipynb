{
 "cells": [
  {
   "cell_type": "code",
   "execution_count": null,
   "id": "f7b34ebe",
   "metadata": {},
   "outputs": [],
   "source": [
    "from quac.chem_drivers.PySCF_driver import PySCFDriver\n",
    "from quac.utils import list_to_xyz\n",
    "import numpy as np\n",
    "import os\n",
    "import psi4"
   ]
  },
  {
   "cell_type": "code",
   "execution_count": null,
   "id": "3990c116",
   "metadata": {},
   "outputs": [],
   "source": []
  },
  {
   "cell_type": "code",
   "execution_count": null,
   "id": "f0d92847",
   "metadata": {},
   "outputs": [],
   "source": []
  },
  {
   "cell_type": "code",
   "execution_count": null,
   "id": "1cb27a4b",
   "metadata": {},
   "outputs": [],
   "source": [
    "mo_basis_OPTIONS = []\n",
    "\n",
    "scf_types = ['RHF', 'ROHF', 'UHF', 'GHF', # HFock\n",
    "        'RKS', 'ROKS', 'UKS', 'GKS', # DFT\n",
    "        \n",
    "       ]\n",
    "\n",
    "scf_loc_types = [\n",
    "             # 'iao',\n",
    "             # 'ibo',\n",
    "             # 'random_unitary',\n",
    "            'edmiston_ruedenberg',\n",
    "            'boys',\n",
    "             'pipek_mezey']\n",
    "\n",
    "fixed_types = [ 'lowdin',\n",
    "             'schmidt']\n",
    "\n",
    "\n",
    "for scf in scf_types:\n",
    "    for loc in scf_loc_types:\n",
    "        mo_basis_OPTIONS.append(loc+'_'+scf)\n",
    "\n",
    "mo_basis_OPTIONS = [*scf_types,*fixed_types, *mo_basis_OPTIONS ]\n",
    "mo_basis_OPTIONS"
   ]
  },
  {
   "cell_type": "code",
   "execution_count": null,
   "id": "f5148513",
   "metadata": {},
   "outputs": [],
   "source": [
    "# i = 0#2\n",
    "i = 2\n",
    "# i = 10\n",
    "\n",
    "mo_basis = mo_basis_OPTIONS[i]\n",
    "mo_basis"
   ]
  },
  {
   "cell_type": "code",
   "execution_count": null,
   "id": "887cf2b4",
   "metadata": {},
   "outputs": [],
   "source": []
  },
  {
   "cell_type": "code",
   "execution_count": null,
   "id": "6ac07867",
   "metadata": {},
   "outputs": [],
   "source": [
    "geometry = list_to_xyz([('Li', (0,0,0)), ('H', (0,0,1.5))])\n",
    "basis = 'STO-3G'\n",
    "convergence = 1e-6\n",
    "\n",
    "# charge= -1\n",
    "# spin= 1\n",
    "\n",
    "charge= 0\n",
    "spin= 0\n",
    "\n",
    "max_ram_memory = 8000\n",
    "pyscf_print_level = 1\n",
    "unit = \"angstrom\"\n",
    "max_hf_cycles= 50\n",
    "xc_functional = 'LDA'\n",
    "symmetry = True\n",
    "run_mp2  = True\n",
    "run_cisd = True\n",
    "run_ccsd = True\n",
    "run_fci  = True\n",
    "CASSCF_act_orbs_and_act_electrons = None#(8,4)"
   ]
  },
  {
   "cell_type": "code",
   "execution_count": null,
   "id": "52e5607f",
   "metadata": {},
   "outputs": [],
   "source": [
    "# run_mp2  = False\n",
    "# run_cisd = False\n",
    "# run_ccsd = False\n",
    "# run_fci  = False"
   ]
  },
  {
   "cell_type": "code",
   "execution_count": null,
   "id": "b83ae64e",
   "metadata": {},
   "outputs": [],
   "source": [
    "pyscf = PySCFDriver(geometry,\n",
    "            basis,\n",
    "            mo_basis,\n",
    "            convergence=convergence,\n",
    "            charge=charge,\n",
    "            max_ram_memory=max_ram_memory,\n",
    "            pyscf_print_level=pyscf_print_level,\n",
    "            unit=unit,\n",
    "            max_hf_cycles=max_hf_cycles,\n",
    "            spin=spin,\n",
    "            symmetry=symmetry,\n",
    "            xc_functional=xc_functional,\n",
    "            run_mp2=run_mp2,\n",
    "            run_cisd=run_cisd,\n",
    "            run_ccsd=run_ccsd,\n",
    "            run_fci=run_fci)\n"
   ]
  },
  {
   "cell_type": "code",
   "execution_count": null,
   "id": "ad673922",
   "metadata": {},
   "outputs": [],
   "source": [
    "pyscf.mo_basis"
   ]
  },
  {
   "cell_type": "code",
   "execution_count": null,
   "id": "4762f6ac",
   "metadata": {},
   "outputs": [],
   "source": [
    "pyscf.run_driver()"
   ]
  },
  {
   "cell_type": "code",
   "execution_count": null,
   "id": "f3fea50f",
   "metadata": {},
   "outputs": [],
   "source": [
    "pyscf.multiplicity"
   ]
  },
  {
   "cell_type": "code",
   "execution_count": null,
   "id": "763af064",
   "metadata": {},
   "outputs": [],
   "source": [
    "pyscf.SCF_obj.mol.symmetry"
   ]
  },
  {
   "cell_type": "code",
   "execution_count": null,
   "id": "70ad6d21",
   "metadata": {},
   "outputs": [],
   "source": [
    "pyscf.calculation_type"
   ]
  },
  {
   "cell_type": "code",
   "execution_count": null,
   "id": "0da66141",
   "metadata": {},
   "outputs": [],
   "source": [
    "if pyscf.calculation_type == 'closed_shell':\n",
    "    print(pyscf.C_matrix.shape)\n",
    "    print(pyscf.eri_spatial_mo_chemist.shape)\n",
    "else:\n",
    "    print(pyscf.C_alpha.shape)\n",
    "    print(pyscf.C_beta.shape)\n",
    "    \n",
    "    print(pyscf.eri_mo_aaaa_chemist.shape)\n",
    "    print(pyscf.eri_mo_aabb_chemist.shape)\n",
    "    print(pyscf.eri_mo_bbbb_chemist.shape)"
   ]
  },
  {
   "cell_type": "code",
   "execution_count": null,
   "id": "7485acab",
   "metadata": {},
   "outputs": [],
   "source": [
    "pyscf.SCF_energy"
   ]
  },
  {
   "cell_type": "markdown",
   "id": "690816bf",
   "metadata": {},
   "source": [
    "# Post HF"
   ]
  },
  {
   "cell_type": "code",
   "execution_count": null,
   "id": "eaca6282",
   "metadata": {},
   "outputs": [],
   "source": [
    "pyscf.run_post_hf()"
   ]
  },
  {
   "cell_type": "code",
   "execution_count": null,
   "id": "0eb2c69a",
   "metadata": {},
   "outputs": [],
   "source": []
  },
  {
   "cell_type": "code",
   "execution_count": null,
   "id": "733586f1",
   "metadata": {},
   "outputs": [],
   "source": [
    "pyscf.pyscf_mp2.e_tot"
   ]
  },
  {
   "cell_type": "code",
   "execution_count": null,
   "id": "b5a92387",
   "metadata": {},
   "outputs": [],
   "source": [
    "pyscf.pyscf_cisd.e_tot"
   ]
  },
  {
   "cell_type": "code",
   "execution_count": null,
   "id": "f9259f66",
   "metadata": {},
   "outputs": [],
   "source": [
    "pyscf.pyscf_ccsd.e_tot"
   ]
  },
  {
   "cell_type": "code",
   "execution_count": null,
   "id": "a72ff1c4",
   "metadata": {},
   "outputs": [],
   "source": [
    "pyscf.pyscf_fci.e_tot"
   ]
  },
  {
   "cell_type": "code",
   "execution_count": null,
   "id": "435780d3",
   "metadata": {},
   "outputs": [],
   "source": [
    "pyscf.hcore_ao.shape"
   ]
  },
  {
   "cell_type": "code",
   "execution_count": null,
   "id": "64d0030f",
   "metadata": {},
   "outputs": [],
   "source": [
    "pyscf.point_group"
   ]
  },
  {
   "cell_type": "code",
   "execution_count": null,
   "id": "c9fd72d6",
   "metadata": {},
   "outputs": [],
   "source": []
  },
  {
   "cell_type": "code",
   "execution_count": null,
   "id": "f340d9f1",
   "metadata": {},
   "outputs": [],
   "source": [
    "import sys\n",
    "\n",
    "print(sys.version_info)"
   ]
  },
  {
   "cell_type": "code",
   "execution_count": null,
   "id": "07a6d7fd",
   "metadata": {},
   "outputs": [],
   "source": [
    "import psi4"
   ]
  },
  {
   "cell_type": "code",
   "execution_count": null,
   "id": "0a577529",
   "metadata": {},
   "outputs": [],
   "source": [
    "mol = psi4.geometry(\"\"\"\n",
    "O\n",
    "H 1 1.1\n",
    "H 1 1.1 2 104\n",
    "symmetry c1\n",
    "\"\"\")\n",
    "\n",
    "# Set computation options\n",
    "psi4.set_options({'guess': 'core',\n",
    "                  'basis': 'cc-pvdz',\n",
    "                  'scf_type': 'pk',\n",
    "                  'e_convergence': 1e-8,\n",
    "                  'reference': 'uhf'})"
   ]
  },
  {
   "cell_type": "code",
   "execution_count": null,
   "id": "43ba16d6",
   "metadata": {},
   "outputs": [],
   "source": []
  },
  {
   "cell_type": "code",
   "execution_count": null,
   "id": "361f960c",
   "metadata": {},
   "outputs": [],
   "source": []
  },
  {
   "cell_type": "code",
   "execution_count": null,
   "id": "22723fbb",
   "metadata": {},
   "outputs": [],
   "source": []
  },
  {
   "cell_type": "code",
   "execution_count": null,
   "id": "5836dc95",
   "metadata": {},
   "outputs": [],
   "source": [
    "from quac.chem_drivers.PySCF_driver import PySCFDriver\n",
    "from quac.utils import list_to_xyz\n",
    "import numpy as np\n",
    "import os\n",
    "import psi4"
   ]
  },
  {
   "cell_type": "code",
   "execution_count": null,
   "id": "7064dc65",
   "metadata": {},
   "outputs": [],
   "source": [
    "# psi4.get_memory()"
   ]
  },
  {
   "cell_type": "code",
   "execution_count": null,
   "id": "a4665271",
   "metadata": {},
   "outputs": [],
   "source": [
    "basis = 'sto-3g'\n",
    "convergence = 1e-6\n",
    "\n",
    "# charge= -1\n",
    "# spin= 1\n",
    "\n",
    "charge= 0\n",
    "spin= 0\n",
    "\n",
    "max_ram_memory_GB = 4\n",
    "pyscf_print_level = 1\n",
    "unit = \"angstrom\"\n",
    "max_hf_cycles= 50\n",
    "xc_functional = 'LDA'\n",
    "symmetry = True\n",
    "run_mp2  = True\n",
    "run_cisd = True\n",
    "run_ccsd = True\n",
    "run_fci  = True"
   ]
  },
  {
   "cell_type": "code",
   "execution_count": null,
   "id": "32e6661c",
   "metadata": {},
   "outputs": [],
   "source": [
    "xyz = list_to_xyz([('H', (0,0,0)), ('H', (0,0,0.74))])\n",
    "# xyz = list_to_xyz([('Li', (0,0,0)), ('H', (0,0,1.5))])\n",
    "symmm = 'c1'\n",
    "geometry = xyz + f'\\nsymmetry {symmm}'\n",
    "\n",
    "\n",
    "mol = psi4.geometry(geometry[4:])\n",
    "psi4.set_memory(f'{max_ram_memory_GB} GB')\n",
    "\n",
    "\n",
    "# Set output file\n",
    "cwd = os.getcwd()\n",
    "fname = 'output.dat'\n",
    "psi4.core.set_output_file(os.path.join(cwd, fname), False)\n",
    "psi4.core.set_output_file(os.path.join(cwd, fname), False)\n",
    "\n",
    "# Set computation options\n",
    "psi4.set_options({\n",
    "    '  guess': 'core',\n",
    "      'basis': basis,\n",
    "    #  'scf_type': 'pk',\n",
    "      'e_convergence': convergence,\n",
    "      'reference': 'uhf'})"
   ]
  },
  {
   "cell_type": "code",
   "execution_count": null,
   "id": "624f6a73",
   "metadata": {},
   "outputs": [],
   "source": [
    "SCF_E_psi = psi4.energy('SCF')\n",
    "SCF_E_psi"
   ]
  },
  {
   "cell_type": "code",
   "execution_count": null,
   "id": "c4cbc5ec",
   "metadata": {},
   "outputs": [],
   "source": []
  }
 ],
 "metadata": {
  "kernelspec": {
   "display_name": "Python 3 (ipykernel)",
   "language": "python",
   "name": "python3"
  },
  "language_info": {
   "codemirror_mode": {
    "name": "ipython",
    "version": 3
   },
   "file_extension": ".py",
   "mimetype": "text/x-python",
   "name": "python",
   "nbconvert_exporter": "python",
   "pygments_lexer": "ipython3",
   "version": "3.8.16"
  }
 },
 "nbformat": 4,
 "nbformat_minor": 5
}
